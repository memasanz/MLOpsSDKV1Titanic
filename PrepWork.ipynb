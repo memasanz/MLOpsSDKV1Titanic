{
 "cells": [
  {
   "cell_type": "code",
   "execution_count": null,
   "metadata": {},
   "outputs": [],
   "source": [
    "##Setup Variables in your keyvault via a service principal"
   ]
  },
  {
   "cell_type": "code",
   "execution_count": 11,
   "metadata": {},
   "outputs": [],
   "source": [
    "# import azureml.core\n",
    "# import os, shutil\n",
    "# from azureml.core import Workspace, Experiment, Datastore, Environment, Dataset\n",
    "# from azureml.core.authentication import ServicePrincipalAuthentication\n",
    "\n",
    "# os.environ.setdefault('tenantId', 'XXXX')\n",
    "# os.environ.setdefault('servicePrincipalId', 'YYYY')\n",
    "# os.environ.setdefault('servicePrincipalPassword', 'AAAA')\n",
    "# os.environ.setdefault('wsName', 'xmm-ws')\n",
    "# os.environ.setdefault('subscriptionId', 'XXXXXX')\n",
    "# os.environ.setdefault('resourceGroup', 'aml-rg')\n",
    "\n",
    "\n",
    "# #pipeline cluster\n",
    "\n",
    "# environment_variables = ['tenantId', 'servicePrincipalId', 'servicePrincipalPassword', 'wsName', \n",
    "#                          'subscriptionId', 'resourceGroup']\n",
    "\n",
    "# envs = {}\n",
    "\n",
    "# for x in environment_variables:\n",
    "#     print(x, \"=\", os.environ.get(x))\n",
    "#     envs[x] = os.environ.get(x)\n",
    "\n",
    "\n",
    "# sp = ServicePrincipalAuthentication(tenant_id=envs['tenantId'], # tenantID\n",
    "#                                     service_principal_id=envs['servicePrincipalId'], # clientId\n",
    "#                                     service_principal_password=envs['servicePrincipalPassword']) # clientSecret\n",
    "\n",
    "# ws = Workspace.get(name=envs['wsName'],\n",
    "#                    auth=sp,\n",
    "#                    subscription_id=envs['subscriptionId'],\n",
    "#                    resource_group=envs['resourceGroup'])\n",
    "# ws.get_details()\n",
    "# keyvault = ws.get_default_keyvault()\n",
    "\n",
    "# for x in environment_variables:\n",
    "#     print(x, \"=\", os.environ.get(x))\n",
    "#     keyvault.set_secret(name = x, value = envs[x])\n",
    "    "
   ]
  },
  {
   "cell_type": "code",
   "execution_count": null,
   "metadata": {},
   "outputs": [],
   "source": [
    "## Upload Data"
   ]
  },
  {
   "cell_type": "code",
   "execution_count": 5,
   "metadata": {},
   "outputs": [
    {
     "name": "stdout",
     "output_type": "stream",
     "text": [
      "Uploading an estimated of 1 files\n",
      "Uploading ./data/titanic.csv\n",
      "Uploaded ./data/titanic.csv, 1 files out of an estimated total of 1\n",
      "Uploaded 1 files\n"
     ]
    },
    {
     "data": {
      "text/plain": [
       "$AZUREML_DATAREFERENCE_3eb0fa3a717042f09ffa172b538718a5"
      ]
     },
     "execution_count": 5,
     "metadata": {},
     "output_type": "execute_result"
    }
   ],
   "source": [
    "from azureml.core import Workspace, Experiment, Datastore, Environment, Dataset\n",
    "\n",
    "ws = Workspace.from_config()\n",
    "default_ds = ws.get_default_datastore()\n",
    "\n",
    "default_ds.upload_files(files=['./data/titanic.csv'], # Upload the diabetes csv files in /data\n",
    "                       target_path='Wipfli/raw_data.csv', # Put it in a folder path in the datastore\n",
    "                       overwrite=True, # Replace existing files of the same name\n",
    "                       show_progress=True)"
   ]
  },
  {
   "cell_type": "code",
   "execution_count": 4,
   "metadata": {},
   "outputs": [
    {
     "name": "stdout",
     "output_type": "stream",
     "text": [
      "Writing ./Environment/Prediction_env.yml\n"
     ]
    }
   ],
   "source": [
    "%%writefile ./Environment/Prediction_env.yml\n",
    "name: Icingprediction_env\n",
    "dependencies:\n",
    "- python=3.8.5\n",
    "- scikit-learn\n",
    "- ipykernel\n",
    "- matplotlib\n",
    "- pandas\n",
    "- pip\n",
    "- pip:\n",
    "  - azureml-defaults\n",
    "  - pyarrow"
   ]
  },
  {
   "cell_type": "code",
   "execution_count": null,
   "metadata": {},
   "outputs": [],
   "source": []
  }
 ],
 "metadata": {
  "kernel_info": {
   "name": "python38-azureml"
  },
  "kernelspec": {
   "display_name": "Python 3.8 - AzureML",
   "language": "python",
   "name": "python38-azureml"
  },
  "language_info": {
   "codemirror_mode": {
    "name": "ipython",
    "version": 3
   },
   "file_extension": ".py",
   "mimetype": "text/x-python",
   "name": "python",
   "nbconvert_exporter": "python",
   "pygments_lexer": "ipython3",
   "version": "3.8.5"
  },
  "nteract": {
   "version": "nteract-front-end@1.0.0"
  }
 },
 "nbformat": 4,
 "nbformat_minor": 2
}
